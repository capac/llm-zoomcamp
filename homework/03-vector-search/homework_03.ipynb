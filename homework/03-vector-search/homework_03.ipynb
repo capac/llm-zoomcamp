{
 "cells": [
  {
   "cell_type": "markdown",
   "id": "1ab73c25-7f03-4702-bbb6-dfbfe702c7e0",
   "metadata": {},
   "source": [
    "# Solutions to homework #3"
   ]
  },
  {
   "cell_type": "code",
   "execution_count": 1,
   "id": "f56c8377-689d-4be0-bd72-8c50c55a3946",
   "metadata": {
    "editable": true,
    "slideshow": {
     "slide_type": ""
    },
    "tags": []
   },
   "outputs": [
    {
     "name": "stderr",
     "output_type": "stream",
     "text": [
      "/usr/local/Caskroom/miniconda/base/envs/llm-zoomcamp/lib/python3.11/site-packages/sentence_transformers/cross_encoder/CrossEncoder.py:11: TqdmExperimentalWarning: Using `tqdm.autonotebook.tqdm` in notebook mode. Use `tqdm.tqdm` instead to force console mode (e.g. in jupyter console)\n",
      "  from tqdm.autonotebook import tqdm, trange\n"
     ]
    }
   ],
   "source": [
    "from sentence_transformers import SentenceTransformer\n",
    "from tqdm import tqdm\n",
    "import requests\n",
    "import numpy as np\n",
    "import warnings"
   ]
  },
  {
   "cell_type": "code",
   "execution_count": 2,
   "id": "2cc335fc-6b39-4d24-ba3b-fcc1ffde017b",
   "metadata": {},
   "outputs": [],
   "source": [
    "warnings.filterwarnings(\"ignore\", category=UserWarning)\n",
    "warnings.filterwarnings(\"ignore\", category=FutureWarning)"
   ]
  },
  {
   "cell_type": "code",
   "execution_count": 3,
   "id": "1f8a9508-99d9-42ee-b38c-aab49ffcadea",
   "metadata": {
    "editable": true,
    "slideshow": {
     "slide_type": ""
    },
    "tags": []
   },
   "outputs": [],
   "source": [
    "model_name = 'multi-qa-distilbert-cos-v1'\n",
    "embedding_model = SentenceTransformer(model_name)"
   ]
  },
  {
   "cell_type": "markdown",
   "id": "90ce5b93-fb97-4f28-940a-a4b3e3a1dc9f",
   "metadata": {},
   "source": [
    "## Solution to question #1"
   ]
  },
  {
   "cell_type": "code",
   "execution_count": 4,
   "id": "ac18bb08-95ba-496b-9c28-3deef7a214e8",
   "metadata": {},
   "outputs": [
    {
     "name": "stdout",
     "output_type": "stream",
     "text": [
      "Value of first vector (rounded to third decimal point: 0.078\n"
     ]
    }
   ],
   "source": [
    "user_question = \"I just discovered the course. Can I still join it?\"\n",
    "vectors = embedding_model.encode(user_question)\n",
    "print(f'Value of first vector (rounded to third decimal point: {round(vectors[0], 3):.3f}')"
   ]
  },
  {
   "cell_type": "markdown",
   "id": "4f0e5e1f-72df-49ac-abf1-75d9bf6acf07",
   "metadata": {},
   "source": [
    "## Solution to question #2"
   ]
  },
  {
   "cell_type": "code",
   "execution_count": 5,
   "id": "66986202-9665-4402-9325-1916656d77ef",
   "metadata": {},
   "outputs": [],
   "source": [
    "base_url = 'https://github.com/DataTalksClub/llm-zoomcamp/blob/main'\n",
    "relative_url = '03-vector-search/eval/documents-with-ids.json'\n",
    "docs_url = f'{base_url}/{relative_url}?raw=1'"
   ]
  },
  {
   "cell_type": "code",
   "execution_count": 6,
   "id": "84030000-1a03-4053-bf4d-bfc5dd50ab73",
   "metadata": {},
   "outputs": [],
   "source": [
    "docs_response = requests.get(docs_url)\n",
    "documents = docs_response.json()"
   ]
  },
  {
   "cell_type": "code",
   "execution_count": 7,
   "id": "5d1be803-185e-4d07-86ea-283b88926523",
   "metadata": {},
   "outputs": [],
   "source": [
    "docs = [doc for doc in documents if doc['course'] in ['machine-learning-zoomcamp']]"
   ]
  },
  {
   "cell_type": "code",
   "execution_count": 8,
   "id": "6eb39b85-f8da-4586-9a8f-41888e702b68",
   "metadata": {},
   "outputs": [
    {
     "name": "stderr",
     "output_type": "stream",
     "text": [
      "100%|███████████████████████████████████████████████████████████████████████████████████████████████████████████| 375/375 [00:33<00:00, 11.17it/s]\n"
     ]
    }
   ],
   "source": [
    "embeddings = []\n",
    "for doc in tqdm(docs):\n",
    "    qa_text = f'''{doc['question']} {doc['text']}'''\n",
    "    embeddings.append(embedding_model.encode(qa_text))"
   ]
  },
  {
   "cell_type": "code",
   "execution_count": 9,
   "id": "2d8fb5a7-d8c9-4ac6-a08f-7e0b15b11c48",
   "metadata": {},
   "outputs": [
    {
     "name": "stdout",
     "output_type": "stream",
     "text": [
      "Shape of the embeddings: (375, 768)\n"
     ]
    }
   ],
   "source": [
    "X = np.array(embeddings)\n",
    "print(f'Shape of the embeddings: {X.shape}')"
   ]
  },
  {
   "cell_type": "markdown",
   "id": "28a5587f-316b-459b-9946-3307af3a62f2",
   "metadata": {},
   "source": [
    "## Solution to question #3"
   ]
  },
  {
   "cell_type": "code",
   "execution_count": 10,
   "id": "89dc8684-5708-4a37-8361-9ac7f04212fd",
   "metadata": {},
   "outputs": [
    {
     "name": "stdout",
     "output_type": "stream",
     "text": [
      "Highest score from the first vector and the embeddings: 0.0127\n"
     ]
    }
   ],
   "source": [
    "v = vectors[0]\n",
    "scores = X.dot(v)\n",
    "max_score = scores.max()\n",
    "print(f'Highest score from the first vector and the embeddings: {round(max_score, 4):.4f}')"
   ]
  },
  {
   "cell_type": "code",
   "execution_count": 11,
   "id": "84bfe647-4de6-4c61-8b68-f6ebc86d9984",
   "metadata": {},
   "outputs": [],
   "source": [
    "class VectorSearchEngine():\n",
    "    def __init__(self, documents, embeddings):\n",
    "        self.documents = documents\n",
    "        self.embeddings = embeddings\n",
    "\n",
    "    def search(self, v_query, num_results=10):\n",
    "        scores = self.embeddings.dot(v_query)\n",
    "        idx = np.argsort(-scores)[:num_results]\n",
    "        return [self.documents[i] for i in idx]"
   ]
  },
  {
   "cell_type": "code",
   "execution_count": 12,
   "id": "941ed7b1-8c70-4be7-9907-7f40c8fe571a",
   "metadata": {},
   "outputs": [],
   "source": [
    "# search_engine = VectorSearchEngine(documents=documents, embeddings=X)\n",
    "# search_engine.search(v, num_results=5)"
   ]
  }
 ],
 "metadata": {
  "kernelspec": {
   "display_name": "Python 3 (ipykernel)",
   "language": "python",
   "name": "python3"
  },
  "language_info": {
   "codemirror_mode": {
    "name": "ipython",
    "version": 3
   },
   "file_extension": ".py",
   "mimetype": "text/x-python",
   "name": "python",
   "nbconvert_exporter": "python",
   "pygments_lexer": "ipython3",
   "version": "3.11.8"
  }
 },
 "nbformat": 4,
 "nbformat_minor": 5
}
