{
 "cells": [
  {
   "cell_type": "markdown",
   "id": "1ab73c25-7f03-4702-bbb6-dfbfe702c7e0",
   "metadata": {},
   "source": [
    "# Solutions to homework #3"
   ]
  },
  {
   "cell_type": "code",
   "execution_count": 1,
   "id": "f56c8377-689d-4be0-bd72-8c50c55a3946",
   "metadata": {
    "editable": true,
    "slideshow": {
     "slide_type": ""
    },
    "tags": []
   },
   "outputs": [
    {
     "name": "stderr",
     "output_type": "stream",
     "text": [
      "/usr/local/Caskroom/miniconda/base/envs/llm-zoomcamp/lib/python3.11/site-packages/sentence_transformers/cross_encoder/CrossEncoder.py:11: TqdmExperimentalWarning: Using `tqdm.autonotebook.tqdm` in notebook mode. Use `tqdm.tqdm` instead to force console mode (e.g. in jupyter console)\n",
      "  from tqdm.autonotebook import tqdm, trange\n"
     ]
    }
   ],
   "source": [
    "from sentence_transformers import SentenceTransformer\n",
    "from tqdm.autonotebook import tqdm\n",
    "import requests\n",
    "import numpy as np\n",
    "import pandas as pd\n",
    "import warnings"
   ]
  },
  {
   "cell_type": "code",
   "execution_count": 2,
   "id": "2cc335fc-6b39-4d24-ba3b-fcc1ffde017b",
   "metadata": {},
   "outputs": [],
   "source": [
    "warnings.filterwarnings(\"ignore\", category=UserWarning)\n",
    "warnings.filterwarnings(\"ignore\", category=FutureWarning)"
   ]
  },
  {
   "cell_type": "code",
   "execution_count": 3,
   "id": "1f8a9508-99d9-42ee-b38c-aab49ffcadea",
   "metadata": {
    "editable": true,
    "slideshow": {
     "slide_type": ""
    },
    "tags": []
   },
   "outputs": [],
   "source": [
    "model_name = 'multi-qa-distilbert-cos-v1'\n",
    "embedding_model = SentenceTransformer(model_name)"
   ]
  },
  {
   "cell_type": "markdown",
   "id": "90ce5b93-fb97-4f28-940a-a4b3e3a1dc9f",
   "metadata": {},
   "source": [
    "## Solution to question #1"
   ]
  },
  {
   "cell_type": "code",
   "execution_count": 4,
   "id": "ac18bb08-95ba-496b-9c28-3deef7a214e8",
   "metadata": {},
   "outputs": [
    {
     "name": "stdout",
     "output_type": "stream",
     "text": [
      "Value of first vector: 0.078.\n"
     ]
    }
   ],
   "source": [
    "user_question = \"I just discovered the course. Can I still join it?\"\n",
    "vectors = embedding_model.encode(user_question)\n",
    "print(f'Value of first vector: {round(vectors[0], 3):.3f}.')"
   ]
  },
  {
   "cell_type": "markdown",
   "id": "4f0e5e1f-72df-49ac-abf1-75d9bf6acf07",
   "metadata": {},
   "source": [
    "## Solution to question #2"
   ]
  },
  {
   "cell_type": "code",
   "execution_count": 5,
   "id": "66986202-9665-4402-9325-1916656d77ef",
   "metadata": {},
   "outputs": [],
   "source": [
    "base_url = 'https://github.com/DataTalksClub/llm-zoomcamp/blob/main'\n",
    "relative_url = '03-vector-search/eval/documents-with-ids.json'\n",
    "docs_url = f'{base_url}/{relative_url}?raw=1'"
   ]
  },
  {
   "cell_type": "code",
   "execution_count": 6,
   "id": "84030000-1a03-4053-bf4d-bfc5dd50ab73",
   "metadata": {},
   "outputs": [],
   "source": [
    "docs_response = requests.get(docs_url)\n",
    "documents = docs_response.json()"
   ]
  },
  {
   "cell_type": "code",
   "execution_count": 7,
   "id": "5d1be803-185e-4d07-86ea-283b88926523",
   "metadata": {},
   "outputs": [],
   "source": [
    "docs = [doc for doc in documents if doc['course'] in ['machine-learning-zoomcamp']]"
   ]
  },
  {
   "cell_type": "code",
   "execution_count": 8,
   "id": "6eb39b85-f8da-4586-9a8f-41888e702b68",
   "metadata": {},
   "outputs": [
    {
     "data": {
      "application/vnd.jupyter.widget-view+json": {
       "model_id": "72750250ffbe41d5a309a3eea71dc68c",
       "version_major": 2,
       "version_minor": 0
      },
      "text/plain": [
       "  0%|          | 0/375 [00:00<?, ?it/s]"
      ]
     },
     "metadata": {},
     "output_type": "display_data"
    }
   ],
   "source": [
    "embeddings = []\n",
    "for doc in tqdm(docs):\n",
    "    qa_text = f'''{doc['question']} {doc['text']}'''\n",
    "    embeddings.append(embedding_model.encode(qa_text))"
   ]
  },
  {
   "cell_type": "code",
   "execution_count": 9,
   "id": "2d8fb5a7-d8c9-4ac6-a08f-7e0b15b11c48",
   "metadata": {},
   "outputs": [
    {
     "name": "stdout",
     "output_type": "stream",
     "text": [
      "Shape of the embeddings: (375, 768)\n"
     ]
    }
   ],
   "source": [
    "X = np.array(embeddings)\n",
    "print(f'Shape of the embeddings: {X.shape}')"
   ]
  },
  {
   "cell_type": "markdown",
   "id": "28a5587f-316b-459b-9946-3307af3a62f2",
   "metadata": {},
   "source": [
    "## Solution to question #3"
   ]
  },
  {
   "cell_type": "code",
   "execution_count": 10,
   "id": "89dc8684-5708-4a37-8361-9ac7f04212fd",
   "metadata": {},
   "outputs": [
    {
     "name": "stdout",
     "output_type": "stream",
     "text": [
      "Highest score from the first vector and the embeddings: 0.0127.\n"
     ]
    }
   ],
   "source": [
    "v = vectors[0]\n",
    "scores = X.dot(v)\n",
    "max_score = scores.max()\n",
    "print(f'Highest score from the first vector and the embeddings: {round(max_score, 4):.4f}.')"
   ]
  },
  {
   "cell_type": "code",
   "execution_count": 11,
   "id": "84bfe647-4de6-4c61-8b68-f6ebc86d9984",
   "metadata": {},
   "outputs": [],
   "source": [
    "class VectorSearchEngine():\n",
    "    def __init__(self, documents, embeddings):\n",
    "        self.documents = documents\n",
    "        self.embeddings = embeddings\n",
    "\n",
    "    def search(self, v_query, num_results=10):\n",
    "        scores = self.embeddings.dot(v_query)\n",
    "        idx = np.argsort(-scores)[:num_results]\n",
    "        return [self.documents[i] for i in idx]"
   ]
  },
  {
   "cell_type": "markdown",
   "id": "8cecde6e-da63-4a94-b876-da26f5d67d0c",
   "metadata": {},
   "source": [
    "## Solution to question #4"
   ]
  },
  {
   "cell_type": "code",
   "execution_count": 12,
   "id": "09c22fd0-24bf-4b1f-a48a-ec42b79e9310",
   "metadata": {},
   "outputs": [],
   "source": [
    "base_url = 'https://github.com/DataTalksClub/llm-zoomcamp/blob/main'\n",
    "relative_url = '03-vector-search/eval/ground-truth-data.csv'\n",
    "ground_truth_url = f'{base_url}/{relative_url}?raw=1'"
   ]
  },
  {
   "cell_type": "code",
   "execution_count": 13,
   "id": "23aa477d-e8a9-4afd-b0b9-a453a585a9d7",
   "metadata": {},
   "outputs": [],
   "source": [
    "df_ground_truth = pd.read_csv(ground_truth_url)\n",
    "df_ground_truth = df_ground_truth[df_ground_truth.course == 'machine-learning-zoomcamp']\n",
    "ground_truth = df_ground_truth.to_dict(orient='records')"
   ]
  },
  {
   "cell_type": "code",
   "execution_count": 14,
   "id": "9afc1bbb-c9c0-4f8c-9d62-00986520bfc5",
   "metadata": {},
   "outputs": [
    {
     "data": {
      "text/plain": [
       "1830"
      ]
     },
     "execution_count": 14,
     "metadata": {},
     "output_type": "execute_result"
    }
   ],
   "source": [
    "len(ground_truth)"
   ]
  },
  {
   "cell_type": "code",
   "execution_count": 15,
   "id": "3c9256da-a7f4-4e0a-b7dc-62a3c73bcbf8",
   "metadata": {},
   "outputs": [
    {
     "data": {
      "text/plain": [
       "{'question': 'Where can I sign up for the course?',\n",
       " 'course': 'machine-learning-zoomcamp',\n",
       " 'document': '0227b872'}"
      ]
     },
     "execution_count": 15,
     "metadata": {},
     "output_type": "execute_result"
    }
   ],
   "source": [
    "ground_truth[0]"
   ]
  },
  {
   "cell_type": "code",
   "execution_count": 16,
   "id": "5c1057c1-130c-4f5e-b14b-8e82fe036243",
   "metadata": {},
   "outputs": [
    {
     "data": {
      "application/vnd.jupyter.widget-view+json": {
       "model_id": "0b933a4a9ee840c591197a9216a3b2ca",
       "version_major": 2,
       "version_minor": 0
      },
      "text/plain": [
       "  0%|          | 0/1830 [00:00<?, ?it/s]"
      ]
     },
     "metadata": {},
     "output_type": "display_data"
    }
   ],
   "source": [
    "gt_embeddings = []\n",
    "for doc in tqdm(ground_truth):\n",
    "    q_text = doc['question']\n",
    "    gt_embeddings.append(embedding_model.encode(q_text))"
   ]
  },
  {
   "cell_type": "code",
   "execution_count": 17,
   "id": "8a9d82d2-4cba-455c-ad5c-c493b478ade0",
   "metadata": {},
   "outputs": [],
   "source": [
    "gt_X = np.array(gt_embeddings)"
   ]
  },
  {
   "cell_type": "code",
   "execution_count": 18,
   "id": "05ca7afb-f8d6-4422-9c08-7231157e2b02",
   "metadata": {},
   "outputs": [
    {
     "data": {
      "text/plain": [
       "(1830, 768)"
      ]
     },
     "execution_count": 18,
     "metadata": {},
     "output_type": "execute_result"
    }
   ],
   "source": [
    "gt_X.shape"
   ]
  },
  {
   "cell_type": "code",
   "execution_count": 19,
   "id": "941ed7b1-8c70-4be7-9907-7f40c8fe571a",
   "metadata": {},
   "outputs": [
    {
     "data": {
      "text/plain": [
       "[{'question': 'If I join the course late, can I still participate?',\n",
       "  'course': 'machine-learning-zoomcamp',\n",
       "  'document': 'ee58a693'},\n",
       " {'question': 'Will I be able to obtain a certificate if I join the course after it has started?',\n",
       "  'course': 'machine-learning-zoomcamp',\n",
       "  'document': 'ee58a693'},\n",
       " {'question': 'Where can I sign up for the course?',\n",
       "  'course': 'machine-learning-zoomcamp',\n",
       "  'document': '0227b872'},\n",
       " {'question': 'Can I start the course anytime?',\n",
       "  'course': 'machine-learning-zoomcamp',\n",
       "  'document': '636f55d5'},\n",
       " {'question': 'What is the initial step after joining the course?',\n",
       "  'course': 'machine-learning-zoomcamp',\n",
       "  'document': '0a278fb2'}]"
      ]
     },
     "execution_count": 19,
     "metadata": {},
     "output_type": "execute_result"
    }
   ],
   "source": [
    "search_engine = VectorSearchEngine(documents=ground_truth, embeddings=gt_X)\n",
    "search_engine.search(vectors, num_results=5)"
   ]
  },
  {
   "cell_type": "code",
   "execution_count": 20,
   "id": "1bbf6178-89f6-4c91-ac4e-4f1d9f72a3e5",
   "metadata": {},
   "outputs": [],
   "source": [
    "def hit_rate(relevance_total):\n",
    "    cnt = 0\n",
    "\n",
    "    for line in relevance_total:\n",
    "        if True in line:\n",
    "            cnt = cnt + 1\n",
    "\n",
    "    return cnt / len(relevance_total)"
   ]
  },
  {
   "cell_type": "code",
   "execution_count": 21,
   "id": "f1771b75-1359-4777-be12-0069f3d8689d",
   "metadata": {},
   "outputs": [],
   "source": [
    "def mrr(relevance_total):\n",
    "    total_score = 0.0\n",
    "\n",
    "    for line in relevance_total:\n",
    "        for rank in range(len(line)):\n",
    "            if line[rank] == True:\n",
    "                total_score = total_score + 1 / (rank + 1)\n",
    "\n",
    "    return total_score / len(relevance_total)"
   ]
  },
  {
   "cell_type": "code",
   "execution_count": 22,
   "id": "00949621-ec00-4268-aaf9-0eb6fd9aa2df",
   "metadata": {},
   "outputs": [],
   "source": [
    "def evaluate(ground_truth, vectors, search_function):\n",
    "    relevance_total = []\n",
    "\n",
    "    for q in tqdm(ground_truth):\n",
    "        doc_id = q['document']\n",
    "        results = search_function.search(vectors)\n",
    "        relevance = [d['document'] == doc_id for d in results]\n",
    "        relevance_total.append(relevance)\n",
    "\n",
    "    return {\n",
    "        'hit_rate': hit_rate(relevance_total),\n",
    "        'mrr': mrr(relevance_total),\n",
    "    }"
   ]
  },
  {
   "cell_type": "code",
   "execution_count": 23,
   "id": "f75c7dc1-c46f-4ea8-844e-74a617d89fa5",
   "metadata": {},
   "outputs": [
    {
     "data": {
      "application/vnd.jupyter.widget-view+json": {
       "model_id": "f5aa9c3f8ed146abba9f822b0989c50f",
       "version_major": 2,
       "version_minor": 0
      },
      "text/plain": [
       "  0%|          | 0/1830 [00:00<?, ?it/s]"
      ]
     },
     "metadata": {},
     "output_type": "display_data"
    },
    {
     "data": {
      "text/plain": [
       "{'hit_rate': 0.01912568306010929, 'mrr': 0.008002645502645499}"
      ]
     },
     "execution_count": 23,
     "metadata": {},
     "output_type": "execute_result"
    }
   ],
   "source": [
    "evaluate(ground_truth, vectors, search_engine)"
   ]
  },
  {
   "cell_type": "markdown",
   "id": "e22992dd-b78d-4dde-8e71-4288dacc3596",
   "metadata": {},
   "source": [
    "## Solution for question #5"
   ]
  },
  {
   "cell_type": "code",
   "execution_count": null,
   "id": "b61f0868-3373-433a-a342-6f5e9e985464",
   "metadata": {},
   "outputs": [],
   "source": []
  }
 ],
 "metadata": {
  "kernelspec": {
   "display_name": "Python 3 (ipykernel)",
   "language": "python",
   "name": "python3"
  },
  "language_info": {
   "codemirror_mode": {
    "name": "ipython",
    "version": 3
   },
   "file_extension": ".py",
   "mimetype": "text/x-python",
   "name": "python",
   "nbconvert_exporter": "python",
   "pygments_lexer": "ipython3",
   "version": "3.11.8"
  }
 },
 "nbformat": 4,
 "nbformat_minor": 5
}
