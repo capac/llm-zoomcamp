{
 "cells": [
  {
   "cell_type": "code",
   "execution_count": 1,
   "id": "de0f4ee3-69e7-41e9-9a9a-fa64e4c04921",
   "metadata": {},
   "outputs": [],
   "source": [
    "import minsearch\n",
    "import json\n",
    "from openai import OpenAI\n",
    "import os"
   ]
  },
  {
   "cell_type": "code",
   "execution_count": 2,
   "id": "d0da128e-eaea-4828-925d-c3e47e6a379d",
   "metadata": {},
   "outputs": [],
   "source": [
    "with open('documents.json', 'rt') as f_in:\n",
    "    docs_raw = json.load(f_in)"
   ]
  },
  {
   "cell_type": "code",
   "execution_count": 3,
   "id": "e4a4b1aa-86a3-42e1-8cc5-3c7d17d42aa1",
   "metadata": {},
   "outputs": [],
   "source": [
    "documents = []\n",
    "for course_dict in docs_raw:\n",
    "    for doc in course_dict['documents']:\n",
    "        doc['course'] = course_dict['course']\n",
    "        documents.append(doc)"
   ]
  },
  {
   "cell_type": "code",
   "execution_count": 4,
   "id": "96e8cfc7-3dcb-4a1f-ab37-c19ccbed6e75",
   "metadata": {},
   "outputs": [],
   "source": [
    "index = minsearch.Index(\n",
    "    text_fields=['text', 'section', 'question'],\n",
    "    keyword_fields=['course'],\n",
    ")"
   ]
  },
  {
   "cell_type": "code",
   "execution_count": 5,
   "id": "a7070eb0-2148-4c0b-b8fc-739276ecbe05",
   "metadata": {},
   "outputs": [],
   "source": [
    "q = 'The course has already started, can I still enroll?'"
   ]
  },
  {
   "cell_type": "code",
   "execution_count": 6,
   "id": "3f069413-2aee-4e68-a61d-6341068cd736",
   "metadata": {},
   "outputs": [],
   "source": [
    "index.fit(documents);"
   ]
  },
  {
   "cell_type": "code",
   "execution_count": 7,
   "id": "7b9755ba-f5f7-43c4-837e-bce348091ff7",
   "metadata": {},
   "outputs": [],
   "source": [
    "boost = {'question': 3.0, 'section': 0.5}\n",
    "results = index.search(\n",
    "    query=q,\n",
    "    boost_dict=boost,\n",
    "    filter_dict={'course': 'data-engineering-zoomcamp'},\n",
    "    num_results=5,\n",
    ")"
   ]
  },
  {
   "cell_type": "code",
   "execution_count": 8,
   "id": "c661170d-e014-4783-b425-1de835a051c2",
   "metadata": {},
   "outputs": [],
   "source": [
    "client = OpenAI()"
   ]
  },
  {
   "cell_type": "code",
   "execution_count": 9,
   "id": "a9065fd2-081a-4ae1-9cac-d44794e992b4",
   "metadata": {},
   "outputs": [],
   "source": [
    "response = client.chat.completions.create(\n",
    "    model='gpt-4o',\n",
    "    messages=[{'role': 'user', 'content': q}],\n",
    ")"
   ]
  },
  {
   "cell_type": "code",
   "execution_count": 10,
   "id": "77c83b34-380d-4906-86c4-4f6b73e79b2f",
   "metadata": {},
   "outputs": [
    {
     "data": {
      "text/plain": [
       "\"The possibility of enrolling in a course after it has started depends on several factors, including the policies of the institution offering the course and the specific course in question.\\n\\nHere are some steps you can take:\\n\\n1. **Check with the Institution**: Contact the admissions office, registrar, or continuing education office at the institution to inquire about late enrollment policies.\\n\\n2. **Contact the Instructor**: Sometimes instructors have discretion to allow late enrollments. Reaching out directly to the instructor to explain your situation might be beneficial.\\n\\n3. **Review Course Materials**: If allowed to enroll late, be prepared to catch up on any missed work. Check if the course materials, such as lecture notes and assignments, are available online.\\n\\n4. **Understand Enrollment Deadlines**: Some institutions have specific deadlines for adding courses. Familiarize yourself with these deadlines.\\n\\n5. **Consider Impact on Performance**: Enrolling late means you'll need to quickly catch up. Assess whether you can manage the additional workload without negatively impacting your performance.\\n\\n6. **Financial Implications**: Ensure you understand any financial implications of enrolling late, such as additional fees or changes in tuition.\\n\\nInstitutions often try to accommodate students, especially if there is a valid reason for the late enrollment, so it’s worth asking.\""
      ]
     },
     "execution_count": 10,
     "metadata": {},
     "output_type": "execute_result"
    }
   ],
   "source": [
    "response.choices[0].message.content"
   ]
  },
  {
   "cell_type": "code",
   "execution_count": null,
   "id": "08848381-8b1d-4022-8cae-7891398eea37",
   "metadata": {},
   "outputs": [],
   "source": []
  }
 ],
 "metadata": {
  "kernelspec": {
   "display_name": "Python 3 (ipykernel)",
   "language": "python",
   "name": "python3"
  },
  "language_info": {
   "codemirror_mode": {
    "name": "ipython",
    "version": 3
   },
   "file_extension": ".py",
   "mimetype": "text/x-python",
   "name": "python",
   "nbconvert_exporter": "python",
   "pygments_lexer": "ipython3",
   "version": "3.10.13"
  }
 },
 "nbformat": 4,
 "nbformat_minor": 5
}
