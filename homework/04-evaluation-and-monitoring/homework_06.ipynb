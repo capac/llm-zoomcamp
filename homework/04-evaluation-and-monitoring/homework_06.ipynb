{
 "cells": [
  {
   "cell_type": "markdown",
   "id": "a600c614-b932-47f4-ac88-04a7fad4469c",
   "metadata": {},
   "source": [
    "# Solutions to homework #4"
   ]
  },
  {
   "cell_type": "code",
   "execution_count": 1,
   "id": "d71849e7-32f8-411a-abb6-a75368021327",
   "metadata": {},
   "outputs": [
    {
     "name": "stderr",
     "output_type": "stream",
     "text": [
      "/var/folders/0g/qngbcycj71l5m10mjn_2bxxh0000gn/T/ipykernel_50150/96233274.py:3: TqdmExperimentalWarning: Using `tqdm.autonotebook.tqdm` in notebook mode. Use `tqdm.tqdm` instead to force console mode (e.g. in jupyter console)\n",
      "  from tqdm.autonotebook import tqdm, trange\n"
     ]
    }
   ],
   "source": [
    "import pandas as pd\n",
    "import numpy as np\n",
    "from tqdm.autonotebook import tqdm, trange\n",
    "from sentence_transformers import SentenceTransformer"
   ]
  },
  {
   "cell_type": "code",
   "execution_count": 2,
   "id": "87677662-ca10-44df-b559-173c4871b602",
   "metadata": {},
   "outputs": [],
   "source": [
    "github_url = 'https://github.com/DataTalksClub/llm-zoomcamp/blob/main/04-monitoring/data/results-gpt4o-mini.csv'\n",
    "data_url = f'{github_url}?raw=1'\n",
    "df = pd.read_csv(data_url)\n",
    "df = df.iloc[:300]"
   ]
  },
  {
   "cell_type": "code",
   "execution_count": 3,
   "id": "632e29e4-1ee6-4b1d-9817-7d9df1ff7b5f",
   "metadata": {},
   "outputs": [
    {
     "data": {
      "text/html": [
       "<div>\n",
       "<style scoped>\n",
       "    .dataframe tbody tr th:only-of-type {\n",
       "        vertical-align: middle;\n",
       "    }\n",
       "\n",
       "    .dataframe tbody tr th {\n",
       "        vertical-align: top;\n",
       "    }\n",
       "\n",
       "    .dataframe thead th {\n",
       "        text-align: right;\n",
       "    }\n",
       "</style>\n",
       "<table border=\"1\" class=\"dataframe\">\n",
       "  <thead>\n",
       "    <tr style=\"text-align: right;\">\n",
       "      <th></th>\n",
       "      <th>answer_llm</th>\n",
       "      <th>answer_orig</th>\n",
       "      <th>document</th>\n",
       "      <th>question</th>\n",
       "      <th>course</th>\n",
       "    </tr>\n",
       "  </thead>\n",
       "  <tbody>\n",
       "    <tr>\n",
       "      <th>0</th>\n",
       "      <td>You can sign up for the course by visiting the...</td>\n",
       "      <td>Machine Learning Zoomcamp FAQ\\nThe purpose of ...</td>\n",
       "      <td>0227b872</td>\n",
       "      <td>Where can I sign up for the course?</td>\n",
       "      <td>machine-learning-zoomcamp</td>\n",
       "    </tr>\n",
       "    <tr>\n",
       "      <th>1</th>\n",
       "      <td>You can sign up using the link provided in the...</td>\n",
       "      <td>Machine Learning Zoomcamp FAQ\\nThe purpose of ...</td>\n",
       "      <td>0227b872</td>\n",
       "      <td>Can you provide a link to sign up?</td>\n",
       "      <td>machine-learning-zoomcamp</td>\n",
       "    </tr>\n",
       "    <tr>\n",
       "      <th>2</th>\n",
       "      <td>Yes, there is an FAQ for the Machine Learning ...</td>\n",
       "      <td>Machine Learning Zoomcamp FAQ\\nThe purpose of ...</td>\n",
       "      <td>0227b872</td>\n",
       "      <td>Is there an FAQ for this Machine Learning course?</td>\n",
       "      <td>machine-learning-zoomcamp</td>\n",
       "    </tr>\n",
       "    <tr>\n",
       "      <th>3</th>\n",
       "      <td>The context does not provide any specific info...</td>\n",
       "      <td>Machine Learning Zoomcamp FAQ\\nThe purpose of ...</td>\n",
       "      <td>0227b872</td>\n",
       "      <td>Does this course have a GitHub repository for ...</td>\n",
       "      <td>machine-learning-zoomcamp</td>\n",
       "    </tr>\n",
       "    <tr>\n",
       "      <th>4</th>\n",
       "      <td>To structure your questions and answers for th...</td>\n",
       "      <td>Machine Learning Zoomcamp FAQ\\nThe purpose of ...</td>\n",
       "      <td>0227b872</td>\n",
       "      <td>How can I structure my questions and answers f...</td>\n",
       "      <td>machine-learning-zoomcamp</td>\n",
       "    </tr>\n",
       "  </tbody>\n",
       "</table>\n",
       "</div>"
      ],
      "text/plain": [
       "                                          answer_llm  \\\n",
       "0  You can sign up for the course by visiting the...   \n",
       "1  You can sign up using the link provided in the...   \n",
       "2  Yes, there is an FAQ for the Machine Learning ...   \n",
       "3  The context does not provide any specific info...   \n",
       "4  To structure your questions and answers for th...   \n",
       "\n",
       "                                         answer_orig  document  \\\n",
       "0  Machine Learning Zoomcamp FAQ\\nThe purpose of ...  0227b872   \n",
       "1  Machine Learning Zoomcamp FAQ\\nThe purpose of ...  0227b872   \n",
       "2  Machine Learning Zoomcamp FAQ\\nThe purpose of ...  0227b872   \n",
       "3  Machine Learning Zoomcamp FAQ\\nThe purpose of ...  0227b872   \n",
       "4  Machine Learning Zoomcamp FAQ\\nThe purpose of ...  0227b872   \n",
       "\n",
       "                                            question  \\\n",
       "0                Where can I sign up for the course?   \n",
       "1                 Can you provide a link to sign up?   \n",
       "2  Is there an FAQ for this Machine Learning course?   \n",
       "3  Does this course have a GitHub repository for ...   \n",
       "4  How can I structure my questions and answers f...   \n",
       "\n",
       "                      course  \n",
       "0  machine-learning-zoomcamp  \n",
       "1  machine-learning-zoomcamp  \n",
       "2  machine-learning-zoomcamp  \n",
       "3  machine-learning-zoomcamp  \n",
       "4  machine-learning-zoomcamp  "
      ]
     },
     "execution_count": 3,
     "metadata": {},
     "output_type": "execute_result"
    }
   ],
   "source": [
    "df.head()"
   ]
  },
  {
   "cell_type": "code",
   "execution_count": 4,
   "id": "27c25eef-91d6-4613-be41-d9d381718bcb",
   "metadata": {},
   "outputs": [
    {
     "name": "stderr",
     "output_type": "stream",
     "text": [
      "/usr/local/Caskroom/miniconda/base/envs/llm-zoomcamp/lib/python3.11/site-packages/torch/backends/mps/__init__.py:24: UserWarning: Skipping device NVIDIA GeForce GT 750M that does not support Metal 2.0 (Triggered internally at /Users/runner/miniforge3/conda-bld/libtorch_1719361037267/work/aten/src/ATen/mps/MPSDevice.mm:97.)\n",
      "  return torch._C._mps_is_available()\n",
      "/usr/local/Caskroom/miniconda/base/envs/llm-zoomcamp/lib/python3.11/site-packages/huggingface_hub/file_download.py:1132: FutureWarning: `resume_download` is deprecated and will be removed in version 1.0.0. Downloads always resume when possible. If you want to force a new download, use `force_download=True`.\n",
      "  warnings.warn(\n"
     ]
    }
   ],
   "source": [
    "model_name = 'multi-qa-mpnet-base-dot-v1'\n",
    "embedding_model = SentenceTransformer(model_name)"
   ]
  },
  {
   "cell_type": "code",
   "execution_count": 5,
   "id": "d143ffa2-ba56-4002-a770-5494bf3f7ae0",
   "metadata": {},
   "outputs": [],
   "source": [
    "answer_llm = df.iloc[0].answer_llm"
   ]
  },
  {
   "cell_type": "code",
   "execution_count": 6,
   "id": "0af59b8a-423e-4f94-939e-cb11b85800ba",
   "metadata": {},
   "outputs": [],
   "source": [
    "vector = embedding_model.encode(answer_llm)"
   ]
  },
  {
   "cell_type": "markdown",
   "id": "a7d5db0f-4174-468b-baca-abf40bb00bb8",
   "metadata": {},
   "source": [
    "## Q1. Getting the embeddings model: Solution to question #1\n",
    "\n",
    "What's the first value of the resulting vector?\n",
    "\n",
    "* **-0.42**\n",
    "* -0.22\n",
    "* -0.02\n",
    "* 0.21"
   ]
  },
  {
   "cell_type": "code",
   "execution_count": 7,
   "id": "7a53f841-d1a1-421d-904b-63d599cf0c12",
   "metadata": {},
   "outputs": [
    {
     "name": "stdout",
     "output_type": "stream",
     "text": [
      "The solution to the first vector is -0.42.\n"
     ]
    }
   ],
   "source": [
    "print(f'The solution to the first vector is {round(vector[0], 3):.2f}.')"
   ]
  },
  {
   "cell_type": "markdown",
   "id": "44d5ca1f-c16f-424a-bc72-0e3aa7137fce",
   "metadata": {},
   "source": [
    "## Q2. Computing the dot product: Solution to question #2\n",
    "\n",
    "Now for each answer pair, let's create embeddings and compute dot product between them. We will put the results (scores) into the `evaluations` list. What's the 75% percentile of the score?\n",
    "\n",
    "* 21.67\n",
    "* **31.67**\n",
    "* 41.67\n",
    "* 51.67"
   ]
  },
  {
   "cell_type": "code",
   "execution_count": 8,
   "id": "77ee73bc-7b58-420b-960f-c050870cccd6",
   "metadata": {},
   "outputs": [],
   "source": [
    "answers = df[['answer_llm', 'answer_orig']]"
   ]
  },
  {
   "cell_type": "code",
   "execution_count": 13,
   "id": "c8275086-4c77-446f-9811-2e540f31d585",
   "metadata": {},
   "outputs": [
    {
     "data": {
      "application/vnd.jupyter.widget-view+json": {
       "model_id": "d5ff731ed0794c5ea3ac3213a39048cd",
       "version_major": 2,
       "version_minor": 0
      },
      "text/plain": [
       "  0%|          | 0/300 [00:00<?, ?it/s]"
      ]
     },
     "metadata": {},
     "output_type": "display_data"
    }
   ],
   "source": [
    "evaluations = []\n",
    "\n",
    "for i in tqdm(range(answers.shape[0])):\n",
    "    \n",
    "    answer_orig = answers.iloc[i]['answer_orig']\n",
    "    vector_orig = np.array(embedding_model.encode(answer_orig))\n",
    "    \n",
    "    answer_llm = answers.iloc[i]['answer_llm']\n",
    "    vector_llm = np.array(embedding_model.encode(answer_llm))\n",
    "\n",
    "    evaluations.append(vector_orig.dot(vector_llm))"
   ]
  },
  {
   "cell_type": "code",
   "execution_count": 14,
   "id": "bfd1ded2-269b-41e0-8b7e-771e59c4f081",
   "metadata": {},
   "outputs": [
    {
     "name": "stdout",
     "output_type": "stream",
     "text": [
      "The 75% percentile of the score is: 31.674.\n"
     ]
    }
   ],
   "source": [
    "print(f'The 75% percentile of the score is: {round(np.percentile(np.array(evaluations), 75), 3)}.')"
   ]
  },
  {
   "cell_type": "markdown",
   "id": "d53aeeaf-168f-46be-ad78-a5415bf24ce3",
   "metadata": {},
   "source": [
    "## Q3. Computing the cosine\n",
    "\n",
    "What's the 75% cosine in the scores?\n",
    "\n",
    "* 0.63\n",
    "* 0.73\n",
    "* **0.83**\n",
    "* 0.93"
   ]
  },
  {
   "cell_type": "code",
   "execution_count": 15,
   "id": "f4f4229b-a447-4d33-b634-2b209ddd44b4",
   "metadata": {},
   "outputs": [],
   "source": [
    "def vector_norm(v):\n",
    "    norm = np.sqrt((v * v).sum())\n",
    "    return v / norm"
   ]
  },
  {
   "cell_type": "code",
   "execution_count": 16,
   "id": "afcd3184-85e6-42b9-8620-3446e02afeaa",
   "metadata": {},
   "outputs": [
    {
     "data": {
      "application/vnd.jupyter.widget-view+json": {
       "model_id": "f02e0f1f4b0447cd9abc9b6ef116f793",
       "version_major": 2,
       "version_minor": 0
      },
      "text/plain": [
       "  0%|          | 0/300 [00:00<?, ?it/s]"
      ]
     },
     "metadata": {},
     "output_type": "display_data"
    }
   ],
   "source": [
    "evaluations_norm = []\n",
    "\n",
    "for i in tqdm(range(answers.shape[0])):\n",
    "    \n",
    "    answer_orig = answers.iloc[i]['answer_orig']\n",
    "    vector_orig = np.array(embedding_model.encode(answer_orig))\n",
    "    vector_norm_orig = vector_norm(vector_orig)\n",
    "    \n",
    "    answer_llm = answers.iloc[i]['answer_llm']\n",
    "    vector_llm = np.array(embedding_model.encode(answer_llm))\n",
    "    vector_norm_llm = vector_norm(vector_llm)\n",
    "\n",
    "    evaluations_norm.append(vector_norm_orig.dot(vector_norm_llm))"
   ]
  },
  {
   "cell_type": "code",
   "execution_count": 17,
   "id": "9c76602f-7b2c-4e2b-8693-7828e033b4bb",
   "metadata": {},
   "outputs": [
    {
     "name": "stdout",
     "output_type": "stream",
     "text": [
      "The 75% percentile of the score is: 0.836.\n"
     ]
    }
   ],
   "source": [
    "print(f'The 75% percentile of the score is: {round(np.percentile(np.array(evaluations_norm), 75), 3)}.')"
   ]
  },
  {
   "cell_type": "code",
   "execution_count": null,
   "id": "5ed0a5a6-a587-419e-b62c-530567c94963",
   "metadata": {},
   "outputs": [],
   "source": []
  }
 ],
 "metadata": {
  "kernelspec": {
   "display_name": "Python 3 (ipykernel)",
   "language": "python",
   "name": "python3"
  },
  "language_info": {
   "codemirror_mode": {
    "name": "ipython",
    "version": 3
   },
   "file_extension": ".py",
   "mimetype": "text/x-python",
   "name": "python",
   "nbconvert_exporter": "python",
   "pygments_lexer": "ipython3",
   "version": "3.11.8"
  }
 },
 "nbformat": 4,
 "nbformat_minor": 5
}
